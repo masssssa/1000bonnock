{
 "cells": [
  {
   "cell_type": "code",
   "execution_count": 11,
   "metadata": {},
   "outputs": [
    {
     "name": "stdout",
     "output_type": "stream",
     "text": [
      "desserts\n"
     ]
    }
   ],
   "source": [
    "#00. 文字列の逆順\n",
    "e = list(\"stressed\")\n",
    "e.reverse()\n",
    "result = \"\".join(e)\n",
    "print(result)"
   ]
  },
  {
   "cell_type": "code",
   "execution_count": 22,
   "metadata": {},
   "outputs": [
    {
     "name": "stdout",
     "output_type": "stream",
     "text": [
      "desserts\n"
     ]
    }
   ],
   "source": [
    "##00.の回答\n",
    "str = 'stressed'\n",
    "ans = str[::-1]  # 「先頭」から「末尾」まで「逆順の移動幅1」で\n",
    "\n",
    "print(ans)"
   ]
  },
  {
   "cell_type": "markdown",
   "metadata": {},
   "source": [
    "開始位置,終了位置,移動幅を指定して文字を逆にする。単純に忘れてた。"
   ]
  },
  {
   "cell_type": "code",
   "execution_count": 12,
   "metadata": {},
   "outputs": [
    {
     "data": {
      "text/plain": [
       "'パトカー'"
      ]
     },
     "execution_count": 12,
     "metadata": {},
     "output_type": "execute_result"
    }
   ],
   "source": [
    "#01. 「パタトクカシーー」\n",
    "e = list(\"パタトクカシーー\")\n",
    "s = e[0]+e[2]+e[4]+e[6]\n",
    "s"
   ]
  },
  {
   "cell_type": "code",
   "execution_count": 23,
   "metadata": {},
   "outputs": [
    {
     "name": "stdout",
     "output_type": "stream",
     "text": [
      "パトカー\n"
     ]
    }
   ],
   "source": [
    "str = 'パタトクカシーー'\n",
    "ans = str[::2]  # 「先頭」から「末尾」まで「移動幅2」で\n",
    "\n",
    "print(ans)"
   ]
  },
  {
   "cell_type": "markdown",
   "metadata": {},
   "source": [
    "同上。文字列の移動幅を使いこなそう。"
   ]
  },
  {
   "cell_type": "code",
   "execution_count": 18,
   "metadata": {},
   "outputs": [
    {
     "data": {
      "text/plain": [
       "'パタトクカシーー'"
      ]
     },
     "execution_count": 18,
     "metadata": {},
     "output_type": "execute_result"
    }
   ],
   "source": [
    "#02. 「パトカー」＋「タクシー」＝「パタトクカシーー」\n",
    "a = \"パトカー\"\n",
    "b = \"タクシー\"\n",
    "c = \"\"\n",
    "for i in range(4):\n",
    "    x = a[i]+b[i]\n",
    "    c = c + x\n",
    "c"
   ]
  },
  {
   "cell_type": "code",
   "execution_count": 24,
   "metadata": {},
   "outputs": [
    {
     "name": "stdout",
     "output_type": "stream",
     "text": [
      "パタトクカシーー\n"
     ]
    }
   ],
   "source": [
    "str1 = 'パトカー'\n",
    "str2 = 'タクシー'\n",
    "ans = ''.join([i + j for i, j in zip(str1, str2)])\n",
    "\n",
    "print(ans)"
   ]
  },
  {
   "cell_type": "markdown",
   "metadata": {},
   "source": [
    "リスト内包表記がイイ…！"
   ]
  },
  {
   "cell_type": "code",
   "execution_count": 4,
   "metadata": {},
   "outputs": [
    {
     "data": {
      "text/plain": [
       "[3, 1, 4, 1, 5, 9, 2, 6, 5, 3, 5, 8, 9, 7, 9]"
      ]
     },
     "execution_count": 4,
     "metadata": {},
     "output_type": "execute_result"
    }
   ],
   "source": [
    "#03. 円周率\n",
    "text = \"Now I need a drink, alcoholic of course, after the heavy lectures involving quantum mechanics.\"\n",
    "text = text.replace(\",\",\"\")\n",
    "text = text.replace(\".\",\"\")\n",
    "list_text = text.split(\" \")\n",
    "x= []\n",
    "for a in list_text:\n",
    "    x.append(len(a))\n",
    "x\n",
    "        "
   ]
  },
  {
   "cell_type": "code",
   "execution_count": null,
   "metadata": {},
   "outputs": [],
   "source": [
    "import re\n",
    "\n",
    "str = 'Now I need a drink, alcoholic of course, after the heavy lectures involving quantum mechanics.'\n",
    "str = re.sub('[,\\.]', '', str)  # ,と.を除去\n",
    "splits = str.split()  # スペースで区切って単語ごとのリストを作成\n",
    "ans = [len(i) for i in splits]\n",
    "\n",
    "print(ans)"
   ]
  },
  {
   "cell_type": "markdown",
   "metadata": {},
   "source": [
    "re.subって便利だね…あんまり意識してなかったけど\n",
    "あとリスト内包表記にそろそろ慣れよう。forの出力結果が出てきたら基本的にリスト内包表記を使っていこう"
   ]
  }
 ],
 "metadata": {
  "interpreter": {
   "hash": "342c0be997862ca2a469d8a5e28fab51a589fad75b67e1dd631425b351adbfd1"
  },
  "kernelspec": {
   "display_name": "Python 3.8.3 ('base')",
   "language": "python",
   "name": "python3"
  },
  "language_info": {
   "codemirror_mode": {
    "name": "ipython",
    "version": 3
   },
   "file_extension": ".py",
   "mimetype": "text/x-python",
   "name": "python",
   "nbconvert_exporter": "python",
   "pygments_lexer": "ipython3",
   "version": "3.8.3"
  },
  "orig_nbformat": 4
 },
 "nbformat": 4,
 "nbformat_minor": 2
}
